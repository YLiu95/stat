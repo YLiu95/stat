{
  "nbformat": 4,
  "nbformat_minor": 0,
  "metadata": {
    "colab": {
      "provenance": [],
      "toc_visible": true,
      "authorship_tag": "ABX9TyPQ++MnYBCWJy9Kkex3xACj",
      "include_colab_link": true
    },
    "kernelspec": {
      "name": "python3",
      "display_name": "Python 3"
    },
    "language_info": {
      "name": "python"
    }
  },
  "cells": [
    {
      "cell_type": "markdown",
      "metadata": {
        "id": "view-in-github",
        "colab_type": "text"
      },
      "source": [
        "<a href=\"https://colab.research.google.com/github/YLiu95/stat/blob/main/Coursework_4_storks.ipynb\" target=\"_parent\"><img src=\"https://colab.research.google.com/assets/colab-badge.svg\" alt=\"Open In Colab\"/></a>"
      ]
    },
    {
      "cell_type": "markdown",
      "metadata": {
        "id": "7ac7oWakEu1w"
      },
      "source": [
        "#ECS7024P - STATISTICS FOR ARTIFICIAL INTELLIGENCE AND DATA SCIENCE\n",
        "\n",
        "#Coursework 4 Storks Part 2: Additional Analysis of the Storks Data"
      ]
    },
    {
      "cell_type": "markdown",
      "metadata": {
        "id": "FflVDIJ3E_Sg"
      },
      "source": [
        "##Section 1 Introduction\n",
        "\n",
        "- In this notebook, we will compare two pairs of models.\n",
        "    - In the first pair, we compare the models' ability to explain the variability of the number of births (`BirthRate`).\n",
        "    - In the second pair, we compare the models' ability to predict the number of storks (`Storks`).\n",
        "- We will compare the models' fit by looking at their scatter plots and metrics.\n",
        "- We will use the bootstrap method to find out if we can be confident about the models' differences in their ability to explain variability or to predict.\n",
        "- Section 2 compares the first pair of models.\n",
        "- Section 3 compares the second pair of models.\n",
        "- Section 4 concludes.\n",
        "\n",
        "###1.1 Outline\n",
        "\n",
        "- Section 1 Introduction\n",
        "    - 1.1 Outline\n",
        "    - 1.2 Import the data\n",
        "- Section 2 Analysis 1\n",
        "    - 2.1 Regression\n",
        "    - 2.2 Bootstrap\n",
        "- Section 3 Analysis 2\n",
        "    - 3.1 Regression\n",
        "    - 3.2 Bootstrap\n",
        "- Section 4 Conclusion\n",
        "\n",
        "###1.2 Import the data"
      ]
    },
    {
      "cell_type": "markdown",
      "metadata": {
        "id": "i0GRQbq-2mqJ"
      },
      "source": [
        "- The unit for `Area` is square kilometres. \n",
        "- The unit for `Storks` is pairs.\n",
        "- The unit for `Humans` is million.\n",
        "- The unit for `BirthRate` is thousand babies per year.\n",
        "- The unit for `SuitableAreaPercent` is percentage."
      ]
    },
    {
      "cell_type": "code",
      "metadata": {
        "colab": {
          "base_uri": "https://localhost:8080/",
          "height": 206
        },
        "id": "3Vi5YF3ZHOKS",
        "outputId": "a6b21ce2-c635-4da2-ec17-18556c344c40"
      },
      "source": [
        "import pandas as pd\n",
        "stork = pd.read_csv('https://raw.githubusercontent.com/YLiu95/stat/main/storks.csv')\n",
        "stork.head()"
      ],
      "execution_count": null,
      "outputs": [
        {
          "output_type": "execute_result",
          "data": {
            "text/html": [
              "<div>\n",
              "<style scoped>\n",
              "    .dataframe tbody tr th:only-of-type {\n",
              "        vertical-align: middle;\n",
              "    }\n",
              "\n",
              "    .dataframe tbody tr th {\n",
              "        vertical-align: top;\n",
              "    }\n",
              "\n",
              "    .dataframe thead th {\n",
              "        text-align: right;\n",
              "    }\n",
              "</style>\n",
              "<table border=\"1\" class=\"dataframe\">\n",
              "  <thead>\n",
              "    <tr style=\"text-align: right;\">\n",
              "      <th></th>\n",
              "      <th>Country</th>\n",
              "      <th>Area</th>\n",
              "      <th>Storks</th>\n",
              "      <th>Humans</th>\n",
              "      <th>BirthRate</th>\n",
              "      <th>SuitableAreaPercent</th>\n",
              "    </tr>\n",
              "  </thead>\n",
              "  <tbody>\n",
              "    <tr>\n",
              "      <th>0</th>\n",
              "      <td>Albania</td>\n",
              "      <td>28750</td>\n",
              "      <td>100</td>\n",
              "      <td>3.2</td>\n",
              "      <td>83</td>\n",
              "      <td>55.68</td>\n",
              "    </tr>\n",
              "    <tr>\n",
              "      <th>1</th>\n",
              "      <td>Austria</td>\n",
              "      <td>83860</td>\n",
              "      <td>300</td>\n",
              "      <td>7.6</td>\n",
              "      <td>87</td>\n",
              "      <td>38.34</td>\n",
              "    </tr>\n",
              "    <tr>\n",
              "      <th>2</th>\n",
              "      <td>Belgium</td>\n",
              "      <td>30520</td>\n",
              "      <td>1</td>\n",
              "      <td>9.9</td>\n",
              "      <td>118</td>\n",
              "      <td>65.93</td>\n",
              "    </tr>\n",
              "    <tr>\n",
              "      <th>3</th>\n",
              "      <td>Bulgaria</td>\n",
              "      <td>111000</td>\n",
              "      <td>5000</td>\n",
              "      <td>9.0</td>\n",
              "      <td>117</td>\n",
              "      <td>57.99</td>\n",
              "    </tr>\n",
              "    <tr>\n",
              "      <th>4</th>\n",
              "      <td>Denmark</td>\n",
              "      <td>43100</td>\n",
              "      <td>9</td>\n",
              "      <td>5.1</td>\n",
              "      <td>59</td>\n",
              "      <td>81.46</td>\n",
              "    </tr>\n",
              "  </tbody>\n",
              "</table>\n",
              "</div>"
            ],
            "text/plain": [
              "    Country    Area  Storks  Humans  BirthRate  SuitableAreaPercent\n",
              "0   Albania   28750     100     3.2         83                55.68\n",
              "1   Austria   83860     300     7.6         87                38.34\n",
              "2   Belgium   30520       1     9.9        118                65.93\n",
              "3  Bulgaria  111000    5000     9.0        117                57.99\n",
              "4   Denmark   43100       9     5.1         59                81.46"
            ]
          },
          "metadata": {},
          "execution_count": 1
        }
      ]
    },
    {
      "cell_type": "markdown",
      "metadata": {
        "id": "g2Z2tqgxFNzq"
      },
      "source": [
        "##Section 2 Analysis 1"
      ]
    },
    {
      "cell_type": "markdown",
      "metadata": {
        "id": "_k_OlcpGZE-z"
      },
      "source": [
        "### 2.1 Regression\n",
        "Implement two regression models for the number of births."
      ]
    },
    {
      "cell_type": "markdown",
      "metadata": {
        "id": "CX8OAHJ0GqJ4"
      },
      "source": [
        "####Model 1\n",
        "Predictor: the number of storks (`Storks`)"
      ]
    },
    {
      "cell_type": "markdown",
      "metadata": {
        "id": "b6trBehQUyJk"
      },
      "source": [
        "- Convert `BirthRate` and `Storks` into a suitable format.\n",
        "- Use `fit` to fit the linear regression.\n",
        "- Calculate R2 and RMSE\n",
        "    - R2 is the coefficient of determination\n",
        "        - It measures the proportion of the variance of the dependent variable that is predictable from the independent variable.\n",
        "    - RMSE is the root mean squared error.\n",
        "        - It is the accuracy of predictor for the continuous variable.\n",
        "    - Both R2 and RMSE measure the goodness of fit.\n",
        "- Since R2 here is 0.385, 38.5% of the variance of `BirthRate` is predictable from `Storks`."
      ]
    },
    {
      "cell_type": "code",
      "metadata": {
        "colab": {
          "base_uri": "https://localhost:8080/"
        },
        "id": "_zUZHcuySRoM",
        "outputId": "8efcfcda-46d3-4d6e-cf61-69bfc06c23cc"
      },
      "source": [
        "import numpy as np\n",
        "y = stork.BirthRate\n",
        "X = np.column_stack(stork.Storks).T\n",
        "\n",
        "from sklearn.linear_model import LinearRegression\n",
        "reg = LinearRegression().fit(X, y)\n",
        "print('The R2 coefficient of determination is %4.3f' % reg.score(X, y))\n",
        "\n",
        "\n",
        "from sklearn.metrics import mean_squared_error\n",
        "y_hat = reg.predict(X)\n",
        "print('Root of the mean squared error (RMSE): %.2f'% mean_squared_error(y, y_hat, squared=False))"
      ],
      "execution_count": null,
      "outputs": [
        {
          "output_type": "stream",
          "name": "stdout",
          "text": [
            "The R2 coefficient of determination is 0.385\n",
            "Root of the mean squared error (RMSE): 312.03\n"
          ]
        }
      ]
    },
    {
      "cell_type": "markdown",
      "metadata": {
        "id": "s1XOCvj2VtHA"
      },
      "source": [
        "- Plot a scatter of the actual values against the predicted values. \n",
        "- If the regression fitted better, the points would be nearer to the blue line."
      ]
    },
    {
      "cell_type": "code",
      "metadata": {
        "colab": {
          "base_uri": "https://localhost:8080/",
          "height": 296
        },
        "id": "XQPKa9S4eJYQ",
        "outputId": "40b93909-a228-4d38-8765-8ee17533649e"
      },
      "source": [
        "import matplotlib.pyplot as plt\n",
        "fig, a = plt.subplots(1,1)\n",
        "a.scatter(y_hat, y,  color='black')\n",
        "a.plot(y_hat, y_hat, color='blue', linewidth=3)\n",
        "a.set_xlabel('Predicted Value')\n",
        "a.set_ylabel('Actual Value')"
      ],
      "execution_count": null,
      "outputs": [
        {
          "output_type": "execute_result",
          "data": {
            "text/plain": [
              "Text(0, 0.5, 'Actual Value')"
            ]
          },
          "metadata": {},
          "execution_count": 3
        },
        {
          "output_type": "display_data",
          "data": {
            "image/png": "[encoded data removed]",
            "text/plain": [
              "<Figure size 432x288 with 1 Axes>"
            ]
          },
          "metadata": {
            "needs_background": "light"
          }
        }
      ]
    },
    {
      "cell_type": "markdown",
      "metadata": {
        "id": "d7CT7012fMPK"
      },
      "source": [
        "####Model 2\n",
        "Predictor: the population size (`Humans`)"
      ]
    },
    {
      "cell_type": "markdown",
      "metadata": {
        "id": "JevahJlgV9n0"
      },
      "source": [
        "- Convert `BirthRate` and `Humans` into a suitable format.\n",
        "- Use `fit` to fit the linear regression.\n",
        "- Calculate R2 and RMSE\n",
        "- Since R2 here is 0.725, 72.5% of the variance of `BirthRate` is predictable from `Humans`.\n",
        "\n",
        "\n",
        "- Compared to model 1, model 2's R2 is bigger and the RMSE is smaller.\n",
        "- This means a larger proportion of the variance of `BirthRate` is predictable from `Humans` than `Storks`.\n",
        "- The accuracy of predictor `Humans` is greater than that of predictor `Storks`."
      ]
    },
    {
      "cell_type": "code",
      "metadata": {
        "colab": {
          "base_uri": "https://localhost:8080/"
        },
        "id": "s92MZe0efMPM",
        "outputId": "8b425622-79eb-4cad-f0c8-eec037c507b8"
      },
      "source": [
        "y = stork.BirthRate\n",
        "X = np.column_stack(stork.Humans).T\n",
        "\n",
        "reg = LinearRegression().fit(X, y)\n",
        "print('The R2 coefficient of determination is %4.3f' % reg.score(X, y))\n",
        "\n",
        "y_hat = reg.predict(X)\n",
        "print('Root of the mean squared error (RMSE): %.2f'\n",
        "% mean_squared_error(y, y_hat, squared=False))"
      ],
      "execution_count": null,
      "outputs": [
        {
          "output_type": "stream",
          "name": "stdout",
          "text": [
            "The R2 coefficient of determination is 0.725\n",
            "Root of the mean squared error (RMSE): 208.78\n"
          ]
        }
      ]
    },
    {
      "cell_type": "markdown",
      "metadata": {
        "id": "Uzm75cDCWtVV"
      },
      "source": [
        "- Plot a scatter of the actual values against the predicted values.\n",
        "\n",
        "\n",
        "- Compared to model 1, the points here are closer to the blue line.\n",
        "- Therefore, model 2 fitted better."
      ]
    },
    {
      "cell_type": "code",
      "metadata": {
        "colab": {
          "base_uri": "https://localhost:8080/",
          "height": 296
        },
        "id": "I2bnrVgcfMPN",
        "outputId": "9141b6b3-d2b7-48b9-a73c-b14e7f981d69"
      },
      "source": [
        "fig, a = plt.subplots(1,1)\n",
        "a.scatter(y_hat, y,  color='black')\n",
        "a.plot(y_hat, y_hat, color='blue', linewidth=3)\n",
        "a.set_xlabel('Predicted Value')\n",
        "a.set_ylabel('Actual Value')"
      ],
      "execution_count": null,
      "outputs": [
        {
          "output_type": "execute_result",
          "data": {
            "text/plain": [
              "Text(0, 0.5, 'Actual Value')"
            ]
          },
          "metadata": {},
          "execution_count": 5
        },
        {
          "output_type": "display_data",
          "data": {
            "image/png": "[encoded data removed]",
            "text/plain": [
              "<Figure size 432x288 with 1 Axes>"
            ]
          },
          "metadata": {
            "needs_background": "light"
          }
        }
      ]
    },
    {
      "cell_type": "markdown",
      "metadata": {
        "id": "ri1iSw_wY7Oe"
      },
      "source": [
        "### 2.2 Bootstrap\n",
        "Use the bootstrap technique to estimate the distribution of the difference in the R2 parameter for the two models."
      ]
    },
    {
      "cell_type": "markdown",
      "metadata": {
        "id": "Pz5FAB3FnWqI"
      },
      "source": [
        "- Define a simple bootstrap function"
      ]
    },
    {
      "cell_type": "code",
      "metadata": {
        "id": "J5ufi4jqnWQr"
      },
      "source": [
        "from sklearn.utils import resample\n",
        "def bootstrapC(data, cols, repeats, func):\n",
        "    result = pd.DataFrame(data = dict([(c, np.empty(repeats)) for c in cols]))\n",
        "    \n",
        "    for i in range(0, repeats):\n",
        "        result.iloc[i] = func(resample(data)) # default is to resample, same size\n",
        "    return result"
      ],
      "execution_count": null,
      "outputs": []
    },
    {
      "cell_type": "markdown",
      "metadata": {
        "id": "vbdazED-ytIu"
      },
      "source": [
        "- Resample the data; fit both models; calculate the difference in the R2 parameter for the two models.\n",
        "- Repeat these steps 500 times and plot a distribution of the differences."
      ]
    },
    {
      "cell_type": "code",
      "metadata": {
        "colab": {
          "base_uri": "https://localhost:8080/",
          "height": 336
        },
        "id": "7Ta9NqDnrtO9",
        "outputId": "5013b09e-490e-45dd-e7ce-3fd77b5583c8"
      },
      "source": [
        "def R2_diff(df):\n",
        "    y = df.BirthRate\n",
        "    X_Storks = np.column_stack(df.Storks).T\n",
        "    X_Humans = np.column_stack(df.Humans).T\n",
        "    reg_Storks = LinearRegression().fit(X_Storks, y)\n",
        "    reg_Humans = LinearRegression().fit(X_Humans, y)\n",
        "    return [reg_Humans.score(X_Humans, y) - reg_Storks.score(X_Storks, y)]\n",
        "\n",
        "bstrap = bootstrapC(stork, ['R2_diff'], 500, R2_diff) \n",
        "_ = bstrap.hist(figsize=(5,5))"
      ],
      "execution_count": null,
      "outputs": [
        {
          "output_type": "display_data",
          "data": {
            "image/png": "[encoded data removed]",
            "text/plain": [
              "<Figure size 360x360 with 1 Axes>"
            ]
          },
          "metadata": {
            "needs_background": "light"
          }
        }
      ]
    },
    {
      "cell_type": "markdown",
      "metadata": {
        "id": "KkD1WhzVzCkk"
      },
      "source": [
        "- Estimate appropriate confidence intervals for the difference in the R2 values.\n",
        "\n",
        "\n",
        "- The 90% and 99% bootstrap confidence intervals include zero difference.\n",
        "- Therefore, we cannot be confident that one of the models explains more of the variability in the number of births than the other model.\n",
        "- This is because the R2 of the two models may be equal. "
      ]
    },
    {
      "cell_type": "code",
      "metadata": {
        "colab": {
          "base_uri": "https://localhost:8080/"
        },
        "id": "2LXT94fjso2A",
        "outputId": "2e2d8da9-eb25-4e48-9b08-f10d34bf1730"
      },
      "source": [
        "R2_diff = R2_diff(stork)[0]\n",
        "print(\"The difference between the R2 (model 2 - model 1) is %3.2f with 80%% CI %3.2f to %3.2f\" % \n",
        "      (R2_diff, bstrap.R2_diff.quantile(0.1), bstrap.R2_diff.quantile(0.9)))\n",
        "print(\"The difference between the R2 (model 2 - model 1) is %3.2f with 90%% CI %3.2f to %3.2f\" % \n",
        "      (R2_diff, bstrap.R2_diff.quantile(0.05), bstrap.R2_diff.quantile(0.95)))\n",
        "print(\"The difference between the R2 (model 2 - model 1) is %3.2f with 99%% CI %3.2f to %3.2f\" % \n",
        "      (R2_diff, bstrap.R2_diff.quantile(0.005), bstrap.R2_diff.quantile(0.995)))"
      ],
      "execution_count": null,
      "outputs": [
        {
          "output_type": "stream",
          "name": "stdout",
          "text": [
            "The difference between the R2 (model 2 - model 1) is 0.34 with 80% CI 0.02 to 0.90\n",
            "The difference between the R2 (model 2 - model 1) is 0.34 with 90% CI -0.08 to 0.94\n",
            "The difference between the R2 (model 2 - model 1) is 0.34 with 99% CI -0.17 to 0.98\n"
          ]
        }
      ]
    },
    {
      "cell_type": "markdown",
      "metadata": {
        "id": "gajb3l6q1Wzc"
      },
      "source": [
        "##Section 3 Analysis 2"
      ]
    },
    {
      "cell_type": "markdown",
      "metadata": {
        "id": "ZpNmZXBN1lOU"
      },
      "source": [
        "###3.1 Regression\n",
        "Implement two regression models for the number of storks."
      ]
    },
    {
      "cell_type": "markdown",
      "metadata": {
        "id": "mtBeNSAM1xYR"
      },
      "source": [
        "####Model 1\n",
        "Predictor: the land area (`Area`)"
      ]
    },
    {
      "cell_type": "markdown",
      "metadata": {
        "id": "QhaBo4r51xYR"
      },
      "source": [
        "- Convert `Storks` and `Area` into a suitable format.\n",
        "- Use `fit` to fit the linear regression.\n",
        "- Calculate R2 and RMSE\n",
        "- Since R2 here is 0.336, 33.6% of the variance of `Storks` is predictable from `Area`."
      ]
    },
    {
      "cell_type": "code",
      "metadata": {
        "colab": {
          "base_uri": "https://localhost:8080/"
        },
        "id": "hcY-A5f41xYR",
        "outputId": "1f44aaf3-4c6b-4dcf-b229-ad88793ac2c4"
      },
      "source": [
        "y = stork.Storks\n",
        "X = np.column_stack(stork.Area).T\n",
        "\n",
        "reg = LinearRegression().fit(X, y)\n",
        "print('The R2 coefficient of determination is %4.3f' % reg.score(X, y))\n",
        "\n",
        "y_hat = reg.predict(X)\n",
        "print('Root of the mean squared error (RMSE): %.2f'% mean_squared_error(y, y_hat, squared=False))"
      ],
      "execution_count": null,
      "outputs": [
        {
          "output_type": "stream",
          "name": "stdout",
          "text": [
            "The R2 coefficient of determination is 0.336\n",
            "Root of the mean squared error (RMSE): 6984.77\n"
          ]
        }
      ]
    },
    {
      "cell_type": "markdown",
      "metadata": {
        "id": "m5rOYvbt1xYT"
      },
      "source": [
        "- Plot a scatter of the actual values against the predicted values. \n",
        "- If the regression fitted better, the points would be nearer to the blue line."
      ]
    },
    {
      "cell_type": "code",
      "metadata": {
        "colab": {
          "base_uri": "https://localhost:8080/",
          "height": 296
        },
        "id": "Ax6jMfNR1xYT",
        "outputId": "540ad9de-25cb-45a4-86e9-aa2eb2af5f44"
      },
      "source": [
        "fig, a = plt.subplots(1,1)\n",
        "a.scatter(y_hat, y,  color='black')\n",
        "a.plot(y_hat, y_hat, color='blue', linewidth=3)\n",
        "a.set_xlabel('Predicted Value')\n",
        "a.set_ylabel('Actual Value')"
      ],
      "execution_count": null,
      "outputs": [
        {
          "output_type": "execute_result",
          "data": {
            "text/plain": [
              "Text(0, 0.5, 'Actual Value')"
            ]
          },
          "metadata": {},
          "execution_count": 10
        },
        {
          "output_type": "display_data",
          "data": {
            "image/png": "[encoded data removed]",
            "text/plain": [
              "<Figure size 432x288 with 1 Axes>"
            ]
          },
          "metadata": {
            "needs_background": "light"
          }
        }
      ]
    },
    {
      "cell_type": "markdown",
      "metadata": {
        "id": "oSZSJcTZ1xYT"
      },
      "source": [
        "####Model 2\n",
        "Predictor: the population density (`ρ_humans`) and the area of suitable land (`area_suit`)"
      ]
    },
    {
      "cell_type": "markdown",
      "metadata": {
        "id": "HzPQRpHO1xYT"
      },
      "source": [
        "- Create the two predictor variables.\n",
        "    - The unit for `ρ_humans` is people per square kilometres.\n",
        "    - The unit for `area_suit` is square kilometres.\n",
        "- Convert `ρ_humans` and `area_suit` into a suitable format.\n",
        "- Use `fit` to fit the linear regression.\n",
        "- Calculate R2 and RMSE\n",
        "- Since R2 here is 0.393, 39.3% of the variance of `Storks` is predictable from `ρ_humans` and `area_suit`.\n",
        "\n",
        "\n",
        "- Compared to model 1, model 2's R2 is bigger and the RMSE is smaller.\n",
        "- This means a larger proportion of the variance of `BirthRate` is predictable from `ρ_humans` and `area_suit` than `Area`.\n",
        "- The accuracy of predictors `ρ_humans` and `area_suit` is greater than that of predictor `Area`."
      ]
    },
    {
      "cell_type": "code",
      "metadata": {
        "colab": {
          "base_uri": "https://localhost:8080/"
        },
        "id": "C0Dr8taV1xYU",
        "outputId": "287ceb27-3231-4aa9-b379-68a3f1b13937"
      },
      "source": [
        "stork['ρ_humans'] = stork.Humans*1000000 / stork.Area\n",
        "stork['area_suit'] = stork.SuitableAreaPercent*stork.Area\n",
        "\n",
        "y = stork.Storks\n",
        "X = np.column_stack((stork.ρ_humans,stork.area_suit))\n",
        "\n",
        "reg = LinearRegression().fit(X, y)\n",
        "print('The R2 coefficient of determination is %4.3f' % reg.score(X, y))\n",
        "\n",
        "y_hat = reg.predict(X)\n",
        "print('Root of the mean squared error (RMSE): %.2f'\n",
        "% mean_squared_error(y, y_hat, squared=False))"
      ],
      "execution_count": null,
      "outputs": [
        {
          "output_type": "stream",
          "name": "stdout",
          "text": [
            "The R2 coefficient of determination is 0.393\n",
            "Root of the mean squared error (RMSE): 6677.03\n"
          ]
        }
      ]
    },
    {
      "cell_type": "markdown",
      "metadata": {
        "id": "6VNcxli31xYU"
      },
      "source": [
        "- Plot a scatter of the actual values against the predicted values.\n",
        "\n",
        "\n",
        "- Compared to model 1, the points here are closer to the blue line.\n",
        "- Therefore, model 2 fitted better."
      ]
    },
    {
      "cell_type": "code",
      "metadata": {
        "colab": {
          "base_uri": "https://localhost:8080/",
          "height": 296
        },
        "id": "BNORTlJV1xYU",
        "outputId": "96ee2315-bb98-446f-e1c2-0fe3cd168fc0"
      },
      "source": [
        "fig, a = plt.subplots(1,1)\n",
        "a.scatter(y_hat, y,  color='black')\n",
        "a.plot(y_hat, y_hat, color='blue', linewidth=3)\n",
        "a.set_xlabel('Predicted Value')\n",
        "a.set_ylabel('Actual Value')"
      ],
      "execution_count": null,
      "outputs": [
        {
          "output_type": "execute_result",
          "data": {
            "text/plain": [
              "Text(0, 0.5, 'Actual Value')"
            ]
          },
          "metadata": {},
          "execution_count": 12
        },
        {
          "output_type": "display_data",
          "data": {
            "image/png": "[encoded data removed]",
            "text/plain": [
              "<Figure size 432x288 with 1 Axes>"
            ]
          },
          "metadata": {
            "needs_background": "light"
          }
        }
      ]
    },
    {
      "cell_type": "markdown",
      "metadata": {
        "id": "1fbRWYaL1xYV"
      },
      "source": [
        "### 3.2 Bootstrap\n",
        "Use the bootstrap technique to estimate the difference in the root mean squared\n",
        "error (RMSE) between the predicted and actual values for the two models."
      ]
    },
    {
      "cell_type": "markdown",
      "metadata": {
        "id": "tl-HUlPO1xYV"
      },
      "source": [
        "- Resample the data; fit both models; calculate the difference in the RMSE parameter for the two models.\n",
        "- Repeat these steps 500 times and plot a distribution of the differences."
      ]
    },
    {
      "cell_type": "code",
      "metadata": {
        "colab": {
          "base_uri": "https://localhost:8080/",
          "height": 336
        },
        "id": "EALyXa4F1xYW",
        "outputId": "cb0c795f-dfba-486d-a6c5-c4d5d4d2d11f"
      },
      "source": [
        "def RMSE_diff(df):\n",
        "    y = df.Storks\n",
        "    X_Area = np.column_stack(df.Area).T\n",
        "    X_ρ_suit = np.column_stack((df.ρ_humans,df.area_suit))\n",
        "    reg_Area = LinearRegression().fit(X_Area, y)\n",
        "    reg_ρ_suit = LinearRegression().fit(X_ρ_suit, y)\n",
        "    y_hat_Area = reg_Area.predict(X_Area)\n",
        "    y_hat_ρ_suit = reg_ρ_suit.predict(X_ρ_suit)\n",
        "    return [mean_squared_error(y, y_hat_Area, squared=False) - mean_squared_error(y, y_hat_ρ_suit, squared=False)]\n",
        "\n",
        "bstrap = bootstrapC(stork, ['RMSE_diff'], 500, RMSE_diff) \n",
        "_ = bstrap.hist(figsize=(5,5))"
      ],
      "execution_count": null,
      "outputs": [
        {
          "output_type": "display_data",
          "data": {
            "image/png": "[encoded data removed]",
            "text/plain": [
              "<Figure size 360x360 with 1 Axes>"
            ]
          },
          "metadata": {
            "needs_background": "light"
          }
        }
      ]
    },
    {
      "cell_type": "markdown",
      "metadata": {
        "id": "EaZloK1o1xYW"
      },
      "source": [
        "- Estimate appropriate confidence intervals for the difference in the RMSE values.\n",
        "\n",
        "\n",
        "- None of the bootstrap confidence intervals include zero difference.\n",
        "- Therefore, we can be confident that model 2 predicts the number of storks better than model 1.\n",
        "- This is because the RMSE of model 2 may be smaller than that of model 1. "
      ]
    },
    {
      "cell_type": "code",
      "metadata": {
        "colab": {
          "base_uri": "https://localhost:8080/"
        },
        "id": "cXDmFj7A1xYW",
        "outputId": "2652dc22-e8ce-4a3d-d50f-3588b45e323e"
      },
      "source": [
        "RMSE_diff = RMSE_diff(stork)[0]\n",
        "print(\"The difference between the RMSE (model 1 - model 2) is %3.2f with 80%% CI %3.2f to %3.2f\" % \n",
        "      (RMSE_diff, bstrap.RMSE_diff.quantile(0.1), bstrap.RMSE_diff.quantile(0.9)))\n",
        "print(\"The difference between the RMSE (model 1 - model 2) is %3.2f with 90%% CI %3.2f to %3.2f\" % \n",
        "      (RMSE_diff, bstrap.RMSE_diff.quantile(0.05), bstrap.RMSE_diff.quantile(0.95)))\n",
        "print(\"The difference between the RMSE (model 1 - model 2) is %3.2f with 99%% CI %3.2f to %3.2f\" % \n",
        "      (RMSE_diff, bstrap.RMSE_diff.quantile(0.005), bstrap.RMSE_diff.quantile(0.995)))"
      ],
      "execution_count": null,
      "outputs": [
        {
          "output_type": "stream",
          "name": "stdout",
          "text": [
            "The difference between the RMSE (model 1 - model 2) is 307.74 with 80% CI 134.16 to 509.70\n",
            "The difference between the RMSE (model 1 - model 2) is 307.74 with 90% CI 98.15 to 641.33\n",
            "The difference between the RMSE (model 1 - model 2) is 307.74 with 99% CI 10.24 to 997.28\n"
          ]
        }
      ]
    },
    {
      "cell_type": "markdown",
      "metadata": {
        "id": "xI38VHzgGe0X"
      },
      "source": [
        "##Section 4 Conclusion\n",
        "\n",
        "- We compared two pairs of models.\n",
        "    - In the first pair, we compared the two models' ability to explain the variability of the number of births (`BirthRate`).\n",
        "    - In the second pair, we compared the two models' ability to predict the number of storks (`Storks`).\n",
        "- The second models in each pair have a better fit than the first models.\n",
        "    - This can be seen by looking at the scatter plots and metrics in each pair of models.\n",
        "- In the first bootstrap analysis, we cannot be confident that model 2 explains more of the variability in the number of births (`BirthRate`) than model 1.\n",
        "- In the second bootstrap analysis, we can be confident that model 2 predicts the number of storks (`Storks`) better than model 1."
      ]
    }
  ]
}